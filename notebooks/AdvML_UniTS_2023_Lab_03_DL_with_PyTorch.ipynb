{
 "nbformat": 4,
 "nbformat_minor": 0,
 "metadata": {
  "colab": {
   "provenance": [],
   "authorship_tag": "ABX9TyPkibvpTEMRILBn2/x8IuJj"
  },
  "kernelspec": {
   "name": "python3",
   "language": "python",
   "display_name": "Python 3 (ipykernel)"
  },
  "language_info": {
   "name": "python"
  }
 },
 "cells": [
  {
   "cell_type": "markdown",
   "source": [
    "# Lab 3: A *whirlwind tour* of `PyTorch` for Deep Learning\n",
    "\n",
    "Advanced Topics in Machine Learning -- Spring 2024, UniTS\n",
    "\n",
    "<a target=\"_blank\" href=\"https://colab.research.google.com/github/ganselmif/adv-ml-units/blob/main/notebooks/AdvML_UniTS_2023_Lab_03_DL_with_PyTorch.ipynb\"><img src=\"https://colab.research.google.com/assets/colab-badge.svg\" alt=\"Open in Colab\"/></a>"
   ],
   "metadata": {
    "collapsed": false
   }
  },
  {
   "cell_type": "markdown",
   "source": [
    "**NOTE:** This notebook is the same as the *solved* version."
   ],
   "metadata": {
    "collapsed": false
   }
  },
  {
   "cell_type": "markdown",
   "source": [
    "### Training a simple *Convolutional Neural Network* on the *MNIST* dataset\n",
    "\n",
    "`PyTorch` is a Python/C++-based *Deep Learning* and *scientific computing* package that mainly provides two high-level features:\n",
    "    - **Tensor computation** (like `NumPy`) with strong GPU acceleration;\n",
    "    - **Deep neural networks** built on a tape-based **autodiff/autograd** system.\n",
    "\n",
    "The flexibility of `PyTorch` and its *Pythonic* interfaces make it the most widely adopted framework for research and development, both in academia and industry.\n",
    "\n",
    "For more info, you can have a look at the [official documentation](https://pytorch.org/docs/stable/index.html) or refer to [this book](https://isip.piconepress.com/courses/temple/ece_4822/resources/books/Deep-Learning-with-PyTorch.pdf).\n",
    "\n",
    "\n",
    "In the following *Lab*, we will learn how to define, train and evaluate a *Neural Network* model in PyTorch. We will use a simple *Convolutional Neural Network* as an example, and we will train it on the *MNIST* dataset.\n"
   ],
   "metadata": {
    "collapsed": false
   }
  },
  {
   "cell_type": "code",
   "execution_count": 1,
   "outputs": [],
   "source": [
    "from tqdm.auto import trange\n",
    "\n",
    "import numpy as np\n",
    "\n",
    "import torch as th\n",
    "import torch.nn as nn\n",
    "import torch.nn.functional as F\n",
    "\n",
    "from torch.utils.data import DataLoader\n",
    "\n",
    "import torchvision\n",
    "from torchvision import datasets\n",
    "from torchvision import transforms\n",
    "\n",
    "import matplotlib.pyplot as plt"
   ],
   "metadata": {
    "collapsed": false,
    "ExecuteTime": {
     "end_time": "2023-09-16T23:56:34.996089800Z",
     "start_time": "2023-09-16T23:56:31.992495200Z"
    }
   }
  },
  {
   "cell_type": "markdown",
   "source": [
    "#### Hyperparameters & co. (pt. 1)\n",
    "We collect here all different *choices* that will potentially yield a significant impact on the learned model."
   ],
   "metadata": {
    "collapsed": false
   }
  },
  {
   "cell_type": "code",
   "execution_count": 2,
   "outputs": [],
   "source": [
    "BATCH_SIZE = 32\n",
    "data_transforms = (\n",
    "    transforms.ToTensor()\n",
    ")  # Convert data to PyTorch tensor form and linearly shrink them to [0, 1] range"
   ],
   "metadata": {
    "collapsed": false,
    "ExecuteTime": {
     "end_time": "2023-09-16T23:56:35.003136700Z",
     "start_time": "2023-09-16T23:56:34.996089800Z"
    }
   }
  },
  {
   "cell_type": "markdown",
   "source": [
    "#### Getting and loading the data\n",
    "There are potentially other -- more *handcrafted* -- ways to load the data. However, it is always a good practice to rely on `torch.utils.data.Dataset` and `torch.utils.data.DataLoader` classes, as they provide many useful abstractions and  functionalities, such as automated *batching*, *shuffling*, loading *parallelization* and *data augmentation* (`transforms`)."
   ],
   "metadata": {
    "collapsed": false
   }
  },
  {
   "cell_type": "code",
   "execution_count": 3,
   "outputs": [
    {
     "name": "stdout",
     "output_type": "stream",
     "text": [
      "Downloading http://yann.lecun.com/exdb/mnist/train-images-idx3-ubyte.gz\n",
      "Downloading http://yann.lecun.com/exdb/mnist/train-images-idx3-ubyte.gz to ./data/MNIST/raw/train-images-idx3-ubyte.gz\n"
     ]
    },
    {
     "name": "stderr",
     "output_type": "stream",
     "text": [
      "100%|██████████| 9912422/9912422 [00:03<00:00, 2565177.14it/s]\n"
     ]
    },
    {
     "name": "stdout",
     "output_type": "stream",
     "text": [
      "Extracting ./data/MNIST/raw/train-images-idx3-ubyte.gz to ./data/MNIST/raw\n",
      "\n",
      "Downloading http://yann.lecun.com/exdb/mnist/train-labels-idx1-ubyte.gz\n",
      "Downloading http://yann.lecun.com/exdb/mnist/train-labels-idx1-ubyte.gz to ./data/MNIST/raw/train-labels-idx1-ubyte.gz\n"
     ]
    },
    {
     "name": "stderr",
     "output_type": "stream",
     "text": [
      "100%|██████████| 28881/28881 [00:00<00:00, 14792489.17it/s]\n"
     ]
    },
    {
     "name": "stdout",
     "output_type": "stream",
     "text": [
      "Extracting ./data/MNIST/raw/train-labels-idx1-ubyte.gz to ./data/MNIST/raw\n",
      "\n",
      "Downloading http://yann.lecun.com/exdb/mnist/t10k-images-idx3-ubyte.gz\n",
      "Downloading http://yann.lecun.com/exdb/mnist/t10k-images-idx3-ubyte.gz to ./data/MNIST/raw/t10k-images-idx3-ubyte.gz\n"
     ]
    },
    {
     "name": "stderr",
     "output_type": "stream",
     "text": [
      "100%|██████████| 1648877/1648877 [00:00<00:00, 2335947.09it/s]\n"
     ]
    },
    {
     "name": "stdout",
     "output_type": "stream",
     "text": [
      "Extracting ./data/MNIST/raw/t10k-images-idx3-ubyte.gz to ./data/MNIST/raw\n",
      "\n",
      "Downloading http://yann.lecun.com/exdb/mnist/t10k-labels-idx1-ubyte.gz\n",
      "Downloading http://yann.lecun.com/exdb/mnist/t10k-labels-idx1-ubyte.gz to ./data/MNIST/raw/t10k-labels-idx1-ubyte.gz\n"
     ]
    },
    {
     "name": "stderr",
     "output_type": "stream",
     "text": [
      "100%|██████████| 4542/4542 [00:00<00:00, 4475106.59it/s]\n"
     ]
    },
    {
     "name": "stdout",
     "output_type": "stream",
     "text": [
      "Extracting ./data/MNIST/raw/t10k-labels-idx1-ubyte.gz to ./data/MNIST/raw\n"
     ]
    }
   ],
   "source": [
    "train_dataset = datasets.MNIST(\n",
    "    root=\"./data\", train=True, transform=data_transforms, download=True\n",
    ")\n",
    "test_dataset = datasets.MNIST(\n",
    "    root=\"./data\", train=False, transform=data_transforms, download=True\n",
    ")\n",
    "\n",
    "train_loader = DataLoader(dataset=train_dataset, batch_size=BATCH_SIZE, shuffle=True)\n",
    "test_loader = DataLoader(dataset=test_dataset, batch_size=BATCH_SIZE, shuffle=False)"
   ],
   "metadata": {
    "collapsed": false,
    "ExecuteTime": {
     "end_time": "2023-09-16T23:56:44.108774300Z",
     "start_time": "2023-09-16T23:56:35.003136700Z"
    }
   }
  },
  {
   "cell_type": "markdown",
   "source": [
    "#### Visualizing the data\n",
    "Let's have a look at some of the images in the dataset."
   ],
   "metadata": {
    "collapsed": false
   }
  },
  {
   "cell_type": "code",
   "execution_count": 4,
   "outputs": [
    {
     "data": {
      "text/plain": "<Figure size 640x480 with 1 Axes>",
      "image/png": "[encoded data removed]"
     },
     "metadata": {},
     "output_type": "display_data"
    }
   ],
   "source": [
    "def imshow(img):\n",
    "    npimg = img.numpy()\n",
    "    plt.axis(\"off\")\n",
    "    plt.imshow(np.transpose(npimg, (1, 2, 0)))\n",
    "\n",
    "\n",
    "# Get some random training images\n",
    "dataiter = train_loader.__iter__()\n",
    "images, labels = dataiter.__next__()\n",
    "\n",
    "# Show images\n",
    "imshow(torchvision.utils.make_grid(images))"
   ],
   "metadata": {
    "collapsed": false,
    "ExecuteTime": {
     "end_time": "2023-09-16T23:56:44.307008100Z",
     "start_time": "2023-09-16T23:56:44.102731700Z"
    }
   }
  },
  {
   "cell_type": "markdown",
   "source": [
    "#### Printing data shapes"
   ],
   "metadata": {
    "collapsed": false
   }
  },
  {
   "cell_type": "code",
   "execution_count": 5,
   "outputs": [
    {
     "name": "stdout",
     "output_type": "stream",
     "text": [
      "Image data shape is: torch.Size([32, 1, 28, 28])  i.e.: batch_size × channels × height × width\n",
      "Label data shape is: torch.Size([32])  i.e.: batch_size × 0-dimensional tensor\n"
     ]
    }
   ],
   "source": [
    "print(\n",
    "    f\"Image data shape is: {images.shape}  i.e.: batch_size × channels × height × width\"\n",
    ")\n",
    "print(f\"Label data shape is: {labels.shape}  i.e.: batch_size × 0-dimensional tensor\")"
   ],
   "metadata": {
    "collapsed": false,
    "ExecuteTime": {
     "end_time": "2023-09-16T23:56:44.349312300Z",
     "start_time": "2023-09-16T23:56:44.307008100Z"
    }
   }
  },
  {
   "cell_type": "markdown",
   "source": [
    "#### Defining the model\n",
    "\n",
    "In `PyTorch`, we define a model by subclassing the `nn.Module` class and defining the `forward` method. The `forward` method is where we define the *computation* that happens at every *forward pass* of the model.\n",
    "\n",
    "Except for extreme corner-cases, the backward pass is automatically defined by `PyTorch` *autograd* system and gradients are obtained efficiently whenever needed.\n",
    "\n",
    "`PyTorch` modules are *transparent* with respect to batch sizes, i.e. we can use the same model to process a single sample or a batch of samples, without worrying about the exact batch size."
   ],
   "metadata": {
    "collapsed": false
   }
  },
  {
   "cell_type": "code",
   "execution_count": 6,
   "outputs": [],
   "source": [
    "class MyModel(nn.Module):\n",
    "    def __init__(self):\n",
    "        super(MyModel, self).__init__()\n",
    "\n",
    "        # Convolution: BSx1x28x28 => BSx32x26x26\n",
    "        self.conv1 = nn.Conv2d(in_channels=1, out_channels=32, kernel_size=3)\n",
    "\n",
    "        # BSx(26*26*32) => BSx128\n",
    "        self.d1 = nn.Linear(26 * 26 * 32, 128)\n",
    "\n",
    "        # BSx128 => BSx10\n",
    "        self.d2 = nn.Linear(128, 10)\n",
    "\n",
    "    def forward(self, x):\n",
    "        # Convolution: BSx1x28x28 => BSx32x26x26\n",
    "        x = self.conv1(x)\n",
    "\n",
    "        # Activation functions are (almost always) applied element-wise\n",
    "        x = F.relu(x)\n",
    "\n",
    "        # Flattening: BSx(32x26x26) => BSx(32*26*26)\n",
    "        x = x.flatten(start_dim=1)\n",
    "\n",
    "        # Linear layer, i.e. vanilla matrix multiplication:\n",
    "        # BSx(32*26*26) => BSx128\n",
    "        x = self.d1(x)\n",
    "        x = F.relu(x)\n",
    "\n",
    "        # Linear layer\n",
    "        # BSx(32*26*26) => BSx128\n",
    "        logits = self.d2(x)\n",
    "\n",
    "        # Softmax computation\n",
    "        out = F.softmax(logits, dim=1)\n",
    "\n",
    "        return out"
   ],
   "metadata": {
    "collapsed": false,
    "ExecuteTime": {
     "end_time": "2023-09-16T23:56:44.350332900Z",
     "start_time": "2023-09-16T23:56:44.314627900Z"
    }
   }
  },
  {
   "cell_type": "markdown",
   "source": [
    "#### Model instantiation and test with a single batch\n",
    "We haven't trained the model yet, so it's not going to give us good results. However, we can still test it on a single batch of data to see if it works from the implementation viewpoint."
   ],
   "metadata": {
    "collapsed": false
   }
  },
  {
   "cell_type": "code",
   "execution_count": 7,
   "outputs": [
    {
     "name": "stdout",
     "output_type": "stream",
     "text": [
      "Output shape is: torch.Size([32, 10])  i.e.: batch_size x num_classes\n"
     ]
    }
   ],
   "source": [
    "model = MyModel()\n",
    "out = model(images)\n",
    "print(f\"Output shape is: {out.shape}  i.e.: batch_size x num_classes\")"
   ],
   "metadata": {
    "collapsed": false,
    "ExecuteTime": {
     "end_time": "2023-09-16T23:56:44.451140300Z",
     "start_time": "2023-09-16T23:56:44.321169500Z"
    }
   }
  },
  {
   "cell_type": "code",
   "execution_count": 8,
   "outputs": [],
   "source": [
    "def get_batch_accuracy(logit, target):\n",
    "    \"\"\"Obtain accuracy for one batch of data\"\"\"\n",
    "    corrects = (th.max(logit, 1)[1].view(target.size()).data == target.data).sum()\n",
    "    accuracy = 100.0 * corrects / target.size(0)\n",
    "    return accuracy.item()"
   ],
   "metadata": {
    "collapsed": false,
    "ExecuteTime": {
     "end_time": "2023-09-16T23:56:44.452173300Z",
     "start_time": "2023-09-16T23:56:44.375983400Z"
    }
   }
  },
  {
   "cell_type": "code",
   "execution_count": 9,
   "outputs": [
    {
     "name": "stdout",
     "output_type": "stream",
     "text": [
      "Accuracy on the single batch just used: 3.125%\n"
     ]
    }
   ],
   "source": [
    "print(f\"Accuracy on the single batch just used: {get_batch_accuracy(out, labels)}%\")"
   ],
   "metadata": {
    "collapsed": false,
    "ExecuteTime": {
     "end_time": "2023-09-16T23:56:44.453180700Z",
     "start_time": "2023-09-16T23:56:44.382506Z"
    }
   }
  },
  {
   "cell_type": "code",
   "execution_count": 10,
   "outputs": [
    {
     "name": "stdout",
     "output_type": "stream",
     "text": [
      "Using device: cuda\n"
     ]
    }
   ],
   "source": [
    "# Device selection\n",
    "device = th.device(\"cuda\" if th.cuda.is_available() else \"cpu\")\n",
    "\n",
    "model = (\n",
    "    MyModel()\n",
    ")  # Re-instantiate the model to reset the weights/gradients. Weights are initialized by default according to Kaiming He et al. (2015) | https://arxiv.org/abs/1502.01852\n",
    "model = model.to(device)  # Move the model to the selected device\n",
    "\n",
    "print(f\"Using device: {device}\")"
   ],
   "metadata": {
    "collapsed": false,
    "ExecuteTime": {
     "end_time": "2023-09-16T23:56:48.806519900Z",
     "start_time": "2023-09-16T23:56:45.993954Z"
    }
   }
  },
  {
   "cell_type": "markdown",
   "source": [
    "#### Hyperparameters & co. (pt. 2)"
   ],
   "metadata": {
    "collapsed": false
   }
  },
  {
   "cell_type": "code",
   "execution_count": 11,
   "outputs": [],
   "source": [
    "num_epochs = 5  # Number of times the whole (training) dataset is used for training\n",
    "learning_rate = 0.001\n",
    "\n",
    "criterion = nn.CrossEntropyLoss()  # Loss function\n",
    "optimizer = th.optim.Adam(model.parameters(), lr=learning_rate)"
   ],
   "metadata": {
    "collapsed": false,
    "ExecuteTime": {
     "end_time": "2023-09-16T23:56:48.806519900Z",
     "start_time": "2023-09-16T23:56:48.790968800Z"
    }
   }
  },
  {
   "cell_type": "markdown",
   "source": [
    "#### Training loop"
   ],
   "metadata": {
    "collapsed": false
   }
  },
  {
   "cell_type": "code",
   "execution_count": 12,
   "outputs": [
    {
     "data": {
      "text/plain": "  0%|          | 0/5 [00:00<?, ?it/s]",
      "application/vnd.jupyter.widget-view+json": {
       "version_major": 2,
       "version_minor": 0,
       "model_id": "558c0eb761b84879b1f4e675005fbf14"
      }
     },
     "metadata": {},
     "output_type": "display_data"
    },
    {
     "name": "stdout",
     "output_type": "stream",
     "text": [
      "Epoch: 1 | Loss: 1.5439523223751763 | Train Accuracy: 92.28255069370331\n",
      "Epoch: 2 | Loss: 1.4895925542206494 | Train Accuracy: 97.45530949839915\n",
      "Epoch: 3 | Loss: 1.4809109247990326 | Train Accuracy: 98.26740928495198\n",
      "Epoch: 4 | Loss: 1.4773259968869588 | Train Accuracy: 98.5709044823906\n",
      "Epoch: 5 | Loss: 1.474342835051273 | Train Accuracy: 98.84771878335113\n"
     ]
    }
   ],
   "source": [
    "for epoch in trange(num_epochs):\n",
    "    train_running_loss = 0.0\n",
    "    train_acc = 0.0\n",
    "\n",
    "    model = (\n",
    "        model.train()\n",
    "    )  # Set the model to training mode: relevant for dropout, batchnorm, etc.\n",
    "\n",
    "    # Actual (batch-wise) training step\n",
    "    for i, (images, labels) in enumerate(train_loader):\n",
    "        images = images.to(device)\n",
    "        labels = labels.to(device)\n",
    "\n",
    "        # Forward pass + (automated) BackProp + Loss computation\n",
    "        logits = model(images)\n",
    "        loss = criterion(logits, labels)\n",
    "\n",
    "        optimizer.zero_grad()  # Reset the gradients to zero: otherwise they accumulate!\n",
    "        loss.backward()  # Backpropagation\n",
    "\n",
    "        # Update model params\n",
    "        optimizer.step()\n",
    "\n",
    "        train_running_loss += loss.detach().item()\n",
    "        train_acc += get_batch_accuracy(logits, labels)\n",
    "\n",
    "    model.eval()\n",
    "    print(\n",
    "        f\"Epoch: {epoch+1} | Loss: {train_running_loss/i} | Train Accuracy: {train_acc/i}\"\n",
    "    )"
   ],
   "metadata": {
    "collapsed": false,
    "ExecuteTime": {
     "end_time": "2023-09-16T23:57:49.496863600Z",
     "start_time": "2023-09-16T23:56:48.797486700Z"
    }
   }
  },
  {
   "cell_type": "markdown",
   "source": [
    "#### Test loop"
   ],
   "metadata": {
    "collapsed": false
   }
  },
  {
   "cell_type": "code",
   "execution_count": 13,
   "outputs": [
    {
     "name": "stdout",
     "output_type": "stream",
     "text": [
      "Test Accuracy: 98.29727564102564\n"
     ]
    }
   ],
   "source": [
    "test_acc = 0.0\n",
    "for i, (images, labels) in enumerate(test_loader):\n",
    "    images = images.to(device)\n",
    "    labels = labels.to(device)\n",
    "    outputs = model(images)\n",
    "    test_acc += get_batch_accuracy(outputs, labels)\n",
    "\n",
    "print(f\"Test Accuracy: {test_acc/i}\")"
   ],
   "metadata": {
    "collapsed": false,
    "ExecuteTime": {
     "end_time": "2023-09-16T23:57:50.545203500Z",
     "start_time": "2023-09-16T23:57:49.503890Z"
    }
   }
  }
 ]
}
