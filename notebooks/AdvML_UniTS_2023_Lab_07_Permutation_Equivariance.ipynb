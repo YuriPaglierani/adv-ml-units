{
 "cells": [
  {
   "cell_type": "markdown",
   "source": [
    "# Lab 7: **Geometric Deep Learning** and *permutation equivariance*\n",
    "\n",
    "Advanced Topics in Machine Learning -- Spring 2023, UniTS\n",
    "\n",
    "<a target=\"_blank\" href=\"https://colab.research.google.com/github/ganselmif/adv-ml-units/blob/main/notebooks/AdvML_UniTS_2023_Lab_07_Permutation_Equivariance.ipynb\"><img src=\"https://colab.research.google.com/assets/colab-badge.svg\" alt=\"Open in Colab\"/></a>\n"
   ],
   "metadata": {
    "collapsed": false
   }
  },
  {
   "cell_type": "markdown",
   "source": [
    "#### Geometric Deep Learning\n",
    "\n",
    "The nowadays popular and growing subfield of *Geometric Deep Learning* is concerned with the study of deep learning models explicitly designed to learn representations that are invariant/equivariant to certain transformations. Such goal is very often achieved thanks to a *deeper* understanding of the mathematical properties of data, representations, and how a given model is able to capture them."
   ],
   "metadata": {
    "collapsed": false
   }
  },
  {
   "cell_type": "markdown",
   "source": [
    "#### *Deep Sets* and *permutation equivariance*\n",
    "\n",
    "In this lab, we will focus on a very simple mathematical construction, introduced in the [*Deep Sets* paper (2017)](https://arxiv.org/abs/1703.06114), able to exhibit in theory *permutation equivariance* with respect to input data, by design. Reading the paper is strongly recommended before starting this lab.\n",
    "\n",
    "Recall the *permutation equivariance* property, as stated in the paper:\n",
    "\n",
    "![](./img/perm_equi.png)\n",
    "\n",
    "with $f$ being the model, $x$ a set of input data, and $\\pi$ a permutation of the indices.\n",
    "\n",
    "1. Implement such function (you can use *plain* `NumPy` !), as described in the following  snippet from the paper:\n",
    "![](./img/perm_equi_th.png)\n",
    "\n",
    "2. Check that the function is indeed permutation equivariant, applying it on synthetic data (you can generate them yourself), as we did in the previous lab(s) with images.\n"
   ],
   "metadata": {
    "collapsed": false
   }
  },
  {
   "cell_type": "code",
   "execution_count": 1,
   "outputs": [],
   "source": [
    "# YOUR CODE HERE\n"
   ],
   "metadata": {
    "collapsed": false
   }
  }
 ],
 "metadata": {
  "kernelspec": {
   "display_name": "Python 3",
   "language": "python",
   "name": "python3"
  },
  "language_info": {
   "codemirror_mode": {
    "name": "ipython",
    "version": 2
   },
   "file_extension": ".py",
   "mimetype": "text/x-python",
   "name": "python",
   "nbconvert_exporter": "python",
   "pygments_lexer": "ipython2",
   "version": "2.7.6"
  }
 },
 "nbformat": 4,
 "nbformat_minor": 0
}
