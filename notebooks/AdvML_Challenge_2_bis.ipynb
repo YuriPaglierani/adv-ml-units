{
  "nbformat": 4,
  "nbformat_minor": 0,
  "metadata": {
    "colab": {
      "provenance": [],
      "machine_shape": "hm",
      "gpuType": "L4"
    },
    "kernelspec": {
      "name": "python3",
      "display_name": "Python 3"
    },
    "language_info": {
      "name": "python"
    },
    "accelerator": "GPU"
  },
  "cells": [
    {
      "cell_type": "markdown",
      "source": [
        "# *Challenge 2*: *Discovering Complexity in Neural Networks*\n",
        "\n",
        "Advanced Topics in Machine Learning -- Fall 2023, UniTS\n",
        "\n",
        "<a target=\"_blank\" href=\"https://colab.research.google.com/github/ganselmif/adv-ml-units/blob/main/notebooks/AdvML_Challenge_2.ipynb\"><img src=\"https://colab.research.google.com/assets/colab-badge.svg\" alt=\"Open in Colab\"/></a>"
      ],
      "metadata": {
        "id": "s9Qlhe8rSlQ1"
      }
    },
    {
      "cell_type": "markdown",
      "source": [
        "In this Notebook we will perform an automatic analysis of complexity of a CNN over the Cifar10 dataset, in order to understand how non-linear is our feature representation (I choose this challenge as second project instead the the Challenge 2)"
      ],
      "metadata": {
        "id": "PhP-0bkOSorc"
      }
    },
    {
      "cell_type": "markdown",
      "source": [
        "### Main Idea\n",
        "We'll analyze a naive CNN architecture: Convolution -> ReLU -> Convolution -> ReLU -> Convolution -> ReLU -> Linear -> Softmax\n",
        "\n",
        "Now, we want to set a trainable non-linearity $R_{\\beta}(x) = ReLU(x) - \\beta \\cdot ReLU(-x)$, if we take $\\beta = (1 - \\alpha)$ we obtain\n",
        "\n",
        "$R_{\\alpha}(x) = ReLU(x) - (1-\\alpha)\\cdot ReLU(-x)$\n",
        "\n",
        "If we observe that $x = ReLU(x) - ReLU(-x)$ we finally obtain:\n",
        "\n",
        "$$R_{\\alpha}(x) = x + \\alpha \\cdot ReLU(-x)$$\n",
        "\n",
        "Where $\\alpha \\in [0, 1]$\n",
        "\n",
        "*Note*: you can also interpret the action of $R_\\alpha(x)$ as a residual connection!\n",
        "*Note*: we'll use a different $\\alpha$ for each non linearity"
      ],
      "metadata": {
        "id": "ok6hLP30SsSb"
      }
    },
    {
      "cell_type": "markdown",
      "source": [
        "There could be different way to model $\\alpha$, Professor Anselmi suggested to simply penalize the final loss with the L1 Norm of the alphas, instead I'll use $\\alpha_t = f((f(\\gamma)-0.5)\\nu_t)$, with $\\gamma$ trainable, $f(x) = 1/(1+e^{-x})$, and $\\nu_t$ increasing in time, so in the end the model will automatically select if the $\\alpha$ is relevant or not.\n",
        "\n",
        "You can find the same updating strategy in this paper: https://appliednetsci.springeropen.com/articles/10.1007/s41109-023-00542-x"
      ],
      "metadata": {
        "id": "S0zrH6iQSwvB"
      }
    },
    {
      "cell_type": "code",
      "source": [
        "import torch\n",
        "import torch.nn as nn\n",
        "import torch.optim as optim\n",
        "import torchvision\n",
        "import torch.nn.functional as F\n",
        "import torchvision.transforms as transforms\n",
        "from torch.utils.data import random_split\n",
        "from tqdm import tqdm\n",
        "import logging\n",
        "import matplotlib.pyplot as plt\n",
        "\n",
        "# Set up logging\n",
        "logging.basicConfig(level=logging.INFO, format='%(asctime)s - %(levelname)s - %(message)s')\n",
        "\n",
        "class GammaAlphaCompute(nn.Module):\n",
        "    def __init__(self, name):\n",
        "        super().__init__()\n",
        "        self.gamma = nn.Parameter(torch.tensor(0.0))\n",
        "        self.register_buffer('nu', torch.tensor(0.0))\n",
        "        self.name = name\n",
        "        self.alpha_history = []\n",
        "        self.gamma_history = []\n",
        "\n",
        "    def compute_alpha(self):\n",
        "        if self.training:\n",
        "            self.nu += 0.01  # Increase nu if we train\n",
        "\n",
        "        f_gamma = torch.sigmoid(self.gamma)\n",
        "        alpha = torch.sigmoid((f_gamma - 0.5) * self.nu)\n",
        "\n",
        "        if self.training:\n",
        "            self.alpha_history.append(alpha.item())\n",
        "            self.gamma_history.append(self.gamma.item())\n",
        "\n",
        "        return alpha\n",
        "\n",
        "class CustomNonLinearity(nn.Module):\n",
        "    def __init__(self, name):\n",
        "        super().__init__()\n",
        "        self.ga_compute = GammaAlphaCompute(name)\n",
        "\n",
        "    def forward(self, x):\n",
        "        alpha = self.ga_compute.compute_alpha()\n",
        "        return x + alpha * F.relu(-x)\n",
        "\n",
        "class CustomCNN(nn.Module):\n",
        "    def __init__(self):\n",
        "        super(CustomCNN, self).__init__()\n",
        "        self.conv1 = nn.Conv2d(3, 64, 3, padding=1)\n",
        "        self.bn1 = nn.BatchNorm2d(64)\n",
        "        self.nl1 = CustomNonLinearity(\"NL1\")\n",
        "\n",
        "        self.conv2 = nn.Conv2d(64, 64, 3, padding=1)\n",
        "        self.bn2 = nn.BatchNorm2d(64)\n",
        "        self.nl2 = CustomNonLinearity(\"NL2\")\n",
        "\n",
        "        self.conv3 = nn.Conv2d(64, 64, 3, padding=1)\n",
        "        self.bn3 = nn.BatchNorm2d(64)\n",
        "        self.nl3 = CustomNonLinearity(\"NL3\")\n",
        "\n",
        "        self.fc = nn.Linear(64 * 4 * 4, 10)\n",
        "        self.softmax = nn.Softmax(dim=1)\n",
        "\n",
        "    def forward(self, x):\n",
        "        x = self.nl1(self.bn1(self.conv1(x)))\n",
        "        x = nn.MaxPool2d(2)(x)\n",
        "\n",
        "        x = self.nl2(self.bn2(self.conv2(x)))\n",
        "        x = nn.MaxPool2d(2)(x)\n",
        "\n",
        "        x = self.nl3(self.bn3(self.conv3(x)))\n",
        "        x = nn.MaxPool2d(2)(x)\n",
        "\n",
        "        x = x.view(-1, 64 * 4 * 4)\n",
        "        x = self.fc(x)\n",
        "        return self.softmax(x)\n",
        "\n",
        "transform = transforms.Compose([\n",
        "    transforms.ToTensor()\n",
        "    # transforms.Normalize((0., 0., 0.), (255, 255, 255))\n",
        "])\n",
        "\n",
        "fullset = torchvision.datasets.CIFAR10(root='./data', train=True, download=True, transform=transform)\n",
        "\n",
        "# Split the dataset\n",
        "train_size = int(0.8 * len(fullset))\n",
        "val_size = len(fullset) - train_size\n",
        "trainset, valset = random_split(fullset, [train_size, val_size])\n",
        "\n",
        "trainloader = torch.utils.data.DataLoader(trainset, batch_size=64, shuffle=True)\n",
        "valloader = torch.utils.data.DataLoader(valset, batch_size=64, shuffle=False)\n",
        "\n",
        "testset = torchvision.datasets.CIFAR10(root='./data', train=False, download=True, transform=transform)\n",
        "testloader = torch.utils.data.DataLoader(testset, batch_size=64, shuffle=False)\n",
        "\n",
        "model = CustomCNN()\n",
        "criterion = nn.CrossEntropyLoss()\n",
        "optimizer = optim.Adam(model.parameters(), lr=0.001)\n",
        "\n",
        "def evaluate(model, dataloader):\n",
        "    model.eval()\n",
        "    correct = 0\n",
        "    total = 0\n",
        "    running_loss = 0.0\n",
        "    with torch.no_grad():\n",
        "        for data in dataloader:\n",
        "            images, labels = data\n",
        "            outputs = model(images)\n",
        "            loss = criterion(outputs, labels)\n",
        "            running_loss += loss.item()\n",
        "            _, predicted = torch.max(outputs.data, 1)\n",
        "            total += labels.size(0)\n",
        "            correct += (predicted == labels).sum().item()\n",
        "    return running_loss / len(dataloader), 100 * correct / total"
      ],
      "metadata": {
        "colab": {
          "base_uri": "https://localhost:8080/"
        },
        "id": "VcnPdTv3GwR-",
        "outputId": "3086f67f-44c1-4875-a00a-591765eb3bbe"
      },
      "execution_count": 1,
      "outputs": [
        {
          "output_type": "stream",
          "name": "stdout",
          "text": [
            "Downloading https://www.cs.toronto.edu/~kriz/cifar-10-python.tar.gz to ./data/cifar-10-python.tar.gz\n"
          ]
        },
        {
          "output_type": "stream",
          "name": "stderr",
          "text": [
            "100%|██████████| 170498071/170498071 [00:18<00:00, 9250527.36it/s] \n"
          ]
        },
        {
          "output_type": "stream",
          "name": "stdout",
          "text": [
            "Extracting ./data/cifar-10-python.tar.gz to ./data\n",
            "Files already downloaded and verified\n"
          ]
        }
      ]
    },
    {
      "cell_type": "code",
      "source": [
        "train_losses, train_accs = [], []\n",
        "val_losses, val_accs = [], []\n",
        "\n",
        "num_epochs = 10\n",
        "for epoch in range(num_epochs):\n",
        "    model.train()\n",
        "    running_loss = 0.0\n",
        "    running_correct = 0\n",
        "    total_samples = 0\n",
        "\n",
        "    print(f\"\\nEpoch {epoch+1}/{num_epochs}\")\n",
        "    print(\"Model parameters:\")\n",
        "    for name, param in model.named_parameters():\n",
        "        if 'gamma' in name:\n",
        "            print(f\"{name}: {param.item():.4f}\")\n",
        "\n",
        "    pbar = tqdm(enumerate(trainloader), total=len(trainloader), desc=f'Training: ')\n",
        "    for i, data in pbar:\n",
        "        inputs, labels = data\n",
        "\n",
        "        optimizer.zero_grad()\n",
        "        outputs = model(inputs)\n",
        "        loss = criterion(outputs, labels)\n",
        "        loss.backward()\n",
        "        optimizer.step()\n",
        "\n",
        "        running_loss += loss.item()\n",
        "\n",
        "        # Compute accuracy\n",
        "        _, predicted = torch.max(outputs.data, 1)\n",
        "        running_correct += (predicted == labels).sum().item()\n",
        "        total_samples += labels.size(0)\n",
        "\n",
        "        # Compute running averages\n",
        "        avg_loss = running_loss / (i + 1)\n",
        "        avg_accuracy = 100 * running_correct / total_samples\n",
        "\n",
        "        # Update progress bar\n",
        "        pbar.set_postfix({\n",
        "            'loss': f'{avg_loss:.4f}',\n",
        "            'accuracy': f'{avg_accuracy:.2f}%'\n",
        "        })\n",
        "\n",
        "    train_losses.append(avg_loss)\n",
        "    train_accs.append(avg_accuracy)\n",
        "\n",
        "    # Validation\n",
        "    val_loss, val_acc = evaluate(model, valloader)\n",
        "    val_losses.append(val_loss)\n",
        "    val_accs.append(val_acc)\n",
        "\n",
        "    # Print epoch summary\n",
        "    print(f'Epoch {epoch+1} summary:')\n",
        "    print(f'Train Loss: {avg_loss:.4f}, Train Accuracy: {avg_accuracy:.2f}%')\n",
        "    print(f'Val Loss: {val_loss:.4f}, Val Accuracy: {val_acc:.2f}%')\n",
        "\n",
        "print('Finished Training')\n"
      ],
      "metadata": {
        "colab": {
          "base_uri": "https://localhost:8080/"
        },
        "id": "fOLH7Dk2HCqM",
        "outputId": "af05b6bd-807f-41e5-c1a0-e21d8bb4e83f"
      },
      "execution_count": 2,
      "outputs": [
        {
          "output_type": "stream",
          "name": "stdout",
          "text": [
            "\n",
            "Epoch 1/10\n",
            "Model parameters:\n",
            "nl1.ga_compute.gamma: 0.0000\n",
            "nl2.ga_compute.gamma: 0.0000\n",
            "nl3.ga_compute.gamma: 0.0000\n"
          ]
        },
        {
          "output_type": "stream",
          "name": "stderr",
          "text": [
            "Training: 100%|██████████| 625/625 [00:38<00:00, 16.25it/s, loss=1.9830, accuracy=48.24%]\n"
          ]
        },
        {
          "output_type": "stream",
          "name": "stdout",
          "text": [
            "Epoch 1 summary:\n",
            "Train Loss: 1.9830, Train Accuracy: 48.24%\n",
            "Val Loss: 1.9575, Val Accuracy: 50.15%\n",
            "\n",
            "Epoch 2/10\n",
            "Model parameters:\n",
            "nl1.ga_compute.gamma: 0.3195\n",
            "nl2.ga_compute.gamma: 0.3453\n",
            "nl3.ga_compute.gamma: -0.5148\n"
          ]
        },
        {
          "output_type": "stream",
          "name": "stderr",
          "text": [
            "Training: 100%|██████████| 625/625 [00:37<00:00, 16.48it/s, loss=1.8486, accuracy=61.75%]\n"
          ]
        },
        {
          "output_type": "stream",
          "name": "stdout",
          "text": [
            "Epoch 2 summary:\n",
            "Train Loss: 1.8486, Train Accuracy: 61.75%\n",
            "Val Loss: 1.9026, Val Accuracy: 55.69%\n",
            "\n",
            "Epoch 3/10\n",
            "Model parameters:\n",
            "nl1.ga_compute.gamma: 0.5253\n",
            "nl2.ga_compute.gamma: 0.6409\n",
            "nl3.ga_compute.gamma: -0.6907\n"
          ]
        },
        {
          "output_type": "stream",
          "name": "stderr",
          "text": [
            "Training: 100%|██████████| 625/625 [00:38<00:00, 16.23it/s, loss=1.8013, accuracy=66.30%]\n"
          ]
        },
        {
          "output_type": "stream",
          "name": "stdout",
          "text": [
            "Epoch 3 summary:\n",
            "Train Loss: 1.8013, Train Accuracy: 66.30%\n",
            "Val Loss: 1.8216, Val Accuracy: 64.17%\n",
            "\n",
            "Epoch 4/10\n",
            "Model parameters:\n",
            "nl1.ga_compute.gamma: 0.6002\n",
            "nl2.ga_compute.gamma: 0.7731\n",
            "nl3.ga_compute.gamma: -0.7375\n"
          ]
        },
        {
          "output_type": "stream",
          "name": "stderr",
          "text": [
            "Training: 100%|██████████| 625/625 [00:38<00:00, 16.30it/s, loss=1.7754, accuracy=68.75%]\n"
          ]
        },
        {
          "output_type": "stream",
          "name": "stdout",
          "text": [
            "Epoch 4 summary:\n",
            "Train Loss: 1.7754, Train Accuracy: 68.75%\n",
            "Val Loss: 1.8645, Val Accuracy: 59.46%\n",
            "\n",
            "Epoch 5/10\n",
            "Model parameters:\n",
            "nl1.ga_compute.gamma: 0.6566\n",
            "nl2.ga_compute.gamma: 0.8361\n",
            "nl3.ga_compute.gamma: -0.7443\n"
          ]
        },
        {
          "output_type": "stream",
          "name": "stderr",
          "text": [
            "Training: 100%|██████████| 625/625 [00:38<00:00, 16.41it/s, loss=1.7536, accuracy=70.95%]\n"
          ]
        },
        {
          "output_type": "stream",
          "name": "stdout",
          "text": [
            "Epoch 5 summary:\n",
            "Train Loss: 1.7536, Train Accuracy: 70.95%\n",
            "Val Loss: 1.7801, Val Accuracy: 68.20%\n",
            "\n",
            "Epoch 6/10\n",
            "Model parameters:\n",
            "nl1.ga_compute.gamma: 0.6907\n",
            "nl2.ga_compute.gamma: 0.8701\n",
            "nl3.ga_compute.gamma: -0.7449\n"
          ]
        },
        {
          "output_type": "stream",
          "name": "stderr",
          "text": [
            "Training: 100%|██████████| 625/625 [00:38<00:00, 16.33it/s, loss=1.7386, accuracy=72.48%]\n"
          ]
        },
        {
          "output_type": "stream",
          "name": "stdout",
          "text": [
            "Epoch 6 summary:\n",
            "Train Loss: 1.7386, Train Accuracy: 72.48%\n",
            "Val Loss: 1.7780, Val Accuracy: 68.42%\n",
            "\n",
            "Epoch 7/10\n",
            "Model parameters:\n",
            "nl1.ga_compute.gamma: 0.7072\n",
            "nl2.ga_compute.gamma: 0.8858\n",
            "nl3.ga_compute.gamma: -0.7473\n"
          ]
        },
        {
          "output_type": "stream",
          "name": "stderr",
          "text": [
            "Training: 100%|██████████| 625/625 [00:38<00:00, 16.23it/s, loss=1.7232, accuracy=74.12%]\n"
          ]
        },
        {
          "output_type": "stream",
          "name": "stdout",
          "text": [
            "Epoch 7 summary:\n",
            "Train Loss: 1.7232, Train Accuracy: 74.12%\n",
            "Val Loss: 1.7831, Val Accuracy: 67.79%\n",
            "\n",
            "Epoch 8/10\n",
            "Model parameters:\n",
            "nl1.ga_compute.gamma: 0.7148\n",
            "nl2.ga_compute.gamma: 0.8924\n",
            "nl3.ga_compute.gamma: -0.7469\n"
          ]
        },
        {
          "output_type": "stream",
          "name": "stderr",
          "text": [
            "Training: 100%|██████████| 625/625 [00:38<00:00, 16.30it/s, loss=1.7121, accuracy=75.09%]\n"
          ]
        },
        {
          "output_type": "stream",
          "name": "stdout",
          "text": [
            "Epoch 8 summary:\n",
            "Train Loss: 1.7121, Train Accuracy: 75.09%\n",
            "Val Loss: 1.7436, Val Accuracy: 71.85%\n",
            "\n",
            "Epoch 9/10\n",
            "Model parameters:\n",
            "nl1.ga_compute.gamma: 0.7200\n",
            "nl2.ga_compute.gamma: 0.8955\n",
            "nl3.ga_compute.gamma: -0.7465\n"
          ]
        },
        {
          "output_type": "stream",
          "name": "stderr",
          "text": [
            "Training: 100%|██████████| 625/625 [00:37<00:00, 16.51it/s, loss=1.7010, accuracy=76.25%]\n"
          ]
        },
        {
          "output_type": "stream",
          "name": "stdout",
          "text": [
            "Epoch 9 summary:\n",
            "Train Loss: 1.7010, Train Accuracy: 76.25%\n",
            "Val Loss: 1.7651, Val Accuracy: 69.58%\n",
            "\n",
            "Epoch 10/10\n",
            "Model parameters:\n",
            "nl1.ga_compute.gamma: 0.7227\n",
            "nl2.ga_compute.gamma: 0.8967\n",
            "nl3.ga_compute.gamma: -0.7462\n"
          ]
        },
        {
          "output_type": "stream",
          "name": "stderr",
          "text": [
            "Training: 100%|██████████| 625/625 [00:37<00:00, 16.59it/s, loss=1.6907, accuracy=77.29%]\n"
          ]
        },
        {
          "output_type": "stream",
          "name": "stdout",
          "text": [
            "Epoch 10 summary:\n",
            "Train Loss: 1.6907, Train Accuracy: 77.29%\n",
            "Val Loss: 1.7352, Val Accuracy: 72.75%\n",
            "Finished Training\n"
          ]
        }
      ]
    },
    {
      "cell_type": "code",
      "source": [
        "# Final test evaluation\n",
        "test_loss, test_acc = evaluate(model, testloader)\n",
        "print(f'Test Loss: {test_loss:.4f}, Test Accuracy: {test_acc:.2f}%')\n",
        "\n",
        "# Plot training and validation metrics\n",
        "plt.figure(figsize=(12, 5))\n",
        "plt.subplot(1, 2, 1)\n",
        "plt.plot(train_losses, label='Train')\n",
        "plt.plot(val_losses, label='Validation')\n",
        "plt.xlabel('Epoch')\n",
        "plt.ylabel('Loss')\n",
        "plt.legend()\n",
        "plt.title('Loss over epochs')\n",
        "\n",
        "plt.subplot(1, 2, 2)\n",
        "plt.plot(train_accs, label='Train')\n",
        "plt.plot(val_accs, label='Validation')\n",
        "plt.xlabel('Epoch')\n",
        "plt.ylabel('Accuracy')\n",
        "plt.legend()\n",
        "plt.title('Accuracy over epochs')\n",
        "\n",
        "plt.tight_layout()\n",
        "plt.savefig('training_validation_metrics.png')\n",
        "plt.close()\n",
        "\n",
        "# Plot alpha evolution\n",
        "plt.figure(figsize=(10, 6))\n",
        "plt.plot(model.nl1.ga_compute.alpha_history, label='NL1')\n",
        "plt.plot(model.nl2.ga_compute.alpha_history, label='NL2')\n",
        "plt.plot(model.nl3.ga_compute.alpha_history, label='NL3')\n",
        "plt.xlabel('Training Steps')\n",
        "plt.ylabel('Alpha Value')\n",
        "plt.title('Evolution of Alpha Values')\n",
        "plt.legend()\n",
        "plt.savefig('alpha_evolution.png')\n",
        "plt.close()\n",
        "\n",
        "print(\"Training/validation metrics plot saved as 'training_validation_metrics.png'\")\n",
        "print(\"Alpha evolution plot saved as 'alpha_evolution.png'\")"
      ],
      "metadata": {
        "colab": {
          "base_uri": "https://localhost:8080/"
        },
        "id": "oiBr9P0BHH0R",
        "outputId": "a5229a2d-a15f-44e7-944a-1a6cc0e8ffb9"
      },
      "execution_count": 3,
      "outputs": [
        {
          "output_type": "stream",
          "name": "stdout",
          "text": [
            "Test Loss: 1.7379, Test Accuracy: 72.34%\n",
            "Training/validation metrics plot saved as 'training_validation_metrics.png'\n",
            "Alpha evolution plot saved as 'alpha_evolution.png'\n"
          ]
        }
      ]
    },
    {
      "cell_type": "code",
      "source": [],
      "metadata": {
        "id": "lJMVk6EtHKl3"
      },
      "execution_count": null,
      "outputs": []
    }
  ]
}