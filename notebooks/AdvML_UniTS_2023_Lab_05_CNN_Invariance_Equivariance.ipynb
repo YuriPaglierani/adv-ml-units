{
 "cells": [
  {
   "cell_type": "markdown",
   "metadata": {},
   "source": [
    "# Lab 5: **Invariance** and **Equivariance** at different layers of a *CNN*\n",
    "\n",
    "Advanced Topics in Machine Learning -- Fall 2023, UniTS\n",
    "\n",
    "<a target=\"_blank\" href=\"https://colab.research.google.com/github/ganselmif/adv-ml-units/blob/main/notebooks/AdvML_UniTS_2023_Lab_05_CNN_Invariance_Equivariance.ipynb\"><img src=\"https://colab.research.google.com/assets/colab-badge.svg\" alt=\"Open in Colab\"/></a>"
   ]
  },
  {
   "cell_type": "markdown",
   "metadata": {},
   "source": [
    "#### Overview of the *Lab*\n",
    "\n",
    "In the following *Lab*, we will study the *invariance* and *equivariance* properties of specific layers within a *CNN*.\n",
    "\n",
    "Recall the definitions -- respectively -- of **invariance** and **equivariance** of (the result of) function $f$ with respect to transformation (expressed in the form of an operator) $P_{\\alpha}$ parametrized by $\\alpha$:\n",
    "\n",
    "- *Invariance*: $f(P_{\\alpha} x) = f(x)\\;\\;\\;\\; \\forall\\alpha$\n",
    "- *Equivariance*: $f(P_{\\alpha} x) = P_{\\alpha} f(x)\\;\\;\\;\\; \\forall\\alpha$\n",
    "\n",
    "According to theory, the training of a *CNN* with pooling should lead to a network whose:\n",
    "\n",
    "- *Convolutional* layers are *equivariant* to translation;\n",
    "- *Fully Connected* layers are *invariant* to translation.\n",
    "\n",
    "Due to the specific structure of convolutional layers, it is possible to show that the *equivariance* property gives rise to permuted activations in response to translation of inputs."
   ]
  },
  {
   "cell_type": "code",
   "execution_count": 4,
   "metadata": {},
   "outputs": [],
   "source": [
    "import torch\n",
    "from torchvision import transforms, datasets\n",
    "from torch.utils.data import DataLoader\n",
    "from torch import nn\n",
    "from torch.nn import functional as F\n",
    "import matplotlib.pyplot as plt"
   ]
  },
  {
   "cell_type": "markdown",
   "metadata": {},
   "source": [
    "The following *CNN* model is given, whose output -- for your convenience -- is a tuple, composed of the actual output of the network, the activation tensor after the second *convolutional* layer, and the activation tensor after the first *fully-connected* layer:"
   ]
  },
  {
   "cell_type": "code",
   "execution_count": 3,
   "metadata": {},
   "outputs": [],
   "source": [
    "class Model(nn.Module):\n",
    "    def __init__(self):\n",
    "        super(Model, self).__init__()\n",
    "        self.conv1 = nn.Conv2d(1, 1, kernel_size=2)\n",
    "        self.fc1 = nn.Linear(729, 10)\n",
    "\n",
    "    def forward(self, x):\n",
    "        x = self.conv1(x)\n",
    "        conv2repr = x.clone().detach()\n",
    "        x = F.relu(x)\n",
    "        x = x.view(x.shape[0], -1)\n",
    "        x = self.fc1(x)\n",
    "        fc1repr = x.clone().detach()\n",
    "        x = F.log_softmax(x, dim=1)\n",
    "        return x, conv2repr, fc1repr"
   ]
  },
  {
   "cell_type": "markdown",
   "metadata": {},
   "source": [
    "Taking inspiration from previous *Labs*:\n",
    "\n",
    "1. Train the model on the (non-augmented) *MNIST* dataset;\n",
    "2. Prepare a test dataset composed of pairs of mutually traslated images;\n",
    "3. Extract the activations of layers `conv2` and `fc1` and check whether they respect the invariance/equivariance property.\n",
    "\n",
    "**Hint**: To test for *equivariance*, it may be useful to notice that **sorting** is invariant to permutations!"
   ]
  },
  {
   "cell_type": "code",
   "execution_count": 5,
   "metadata": {},
   "outputs": [],
   "source": [
    "transform = transforms.Compose([\n",
    "    transforms.ToTensor(),\n",
    "    transforms.Normalize((0.1307,), (0.3081,))\n",
    "])\n",
    "\n",
    "train_dataset = datasets.MNIST(root='./data', train=True, download=True, transform=transform)\n",
    "train_loader = DataLoader(train_dataset, batch_size=64, shuffle=True)\n",
    "\n",
    "test_dataset = datasets.MNIST(root='./data', train=False, download=True, transform=transform)\n",
    "test_loader = DataLoader(test_dataset, batch_size=1000, shuffle=False)"
   ]
  },
  {
   "cell_type": "code",
   "execution_count": 11,
   "metadata": {},
   "outputs": [
    {
     "name": "stdout",
     "output_type": "stream",
     "text": [
      "Epoch 1/10 completed\n",
      "Epoch 2/10 completed\n",
      "Epoch 3/10 completed\n",
      "Epoch 4/10 completed\n",
      "Epoch 5/10 completed\n",
      "Epoch 6/10 completed\n",
      "Epoch 7/10 completed\n",
      "Epoch 8/10 completed\n",
      "Epoch 9/10 completed\n",
      "Epoch 10/10 completed\n"
     ]
    }
   ],
   "source": [
    "model = Model()\n",
    "optimizer = torch.optim.Adam(model.parameters(), lr=0.001)\n",
    "criterion = nn.NLLLoss()\n",
    "\n",
    "def train(model, train_loader, optimizer, criterion, epochs=10):\n",
    "    model.train()\n",
    "    for epoch in range(epochs):\n",
    "        for batch_idx, (data, target) in enumerate(train_loader):\n",
    "            optimizer.zero_grad()\n",
    "            output, _, _ = model(data)\n",
    "            loss = criterion(output, target)\n",
    "            loss.backward()\n",
    "            optimizer.step()\n",
    "        print(f'Epoch {epoch+1}/{epochs} completed')\n",
    "\n",
    "train(model, train_loader, optimizer, criterion)"
   ]
  },
  {
   "cell_type": "code",
   "execution_count": 21,
   "metadata": {},
   "outputs": [],
   "source": [
    "def translate_image(image, dx, dy):\n",
    "    return torch.roll(image, shifts=(dy, dx), dims=(2, 3))\n",
    "\n",
    "def prepare_translated_dataset(dataset, dx=-1, dy=-1):\n",
    "    translated_dataset = []\n",
    "    for image, label in dataset:\n",
    "        translated_image = translate_image(image.unsqueeze(0), dx, dy)\n",
    "        translated_dataset.append((image, translated_image.squeeze(0), label))\n",
    "    return translated_dataset\n",
    "\n",
    "translated_test_dataset = prepare_translated_dataset(test_dataset)\n",
    "translated_test_loader = DataLoader(translated_test_dataset, batch_size=1000, shuffle=False)"
   ]
  },
  {
   "cell_type": "code",
   "execution_count": 22,
   "metadata": {},
   "outputs": [
    {
     "name": "stdout",
     "output_type": "stream",
     "text": [
      "FC1 layer invariance (mean absolute difference): 2.562991\n",
      "Conv2 layer equivariance (mean absolute difference of sorted activations): 0.000041\n"
     ]
    },
    {
     "data": {
      "image/png": "[encoded data removed]",
      "text/plain": [
       "<Figure size 1000x1000 with 4 Axes>"
      ]
     },
     "metadata": {},
     "output_type": "display_data"
    }
   ],
   "source": [
    "def test_invariance_equivariance(model, loader):\n",
    "    model.eval()\n",
    "    with torch.no_grad():\n",
    "        for batch in loader:\n",
    "            original, translated, _ = batch\n",
    "            \n",
    "            # Forward pass\n",
    "            original_output, original_conv2, original_fc1 = model(original)\n",
    "            translated_output, translated_conv2, translated_fc1 = model(translated)\n",
    "            \n",
    "            # Test invariance of fully connected layer\n",
    "            fc1_diff = torch.abs(original_fc1 - translated_fc1).mean()\n",
    "            print(f\"FC1 layer invariance (mean absolute difference): {fc1_diff:.6f}\")\n",
    "            \n",
    "            # Test equivariance of convolutional layer\n",
    "            original_conv2_sorted = original_conv2.view(original_conv2.size(0), -1).sort(dim=1)[0]\n",
    "            translated_conv2_sorted = translated_conv2.view(translated_conv2.size(0), -1).sort(dim=1)[0]\n",
    "            conv2_diff = torch.abs(original_conv2_sorted - translated_conv2_sorted).mean()\n",
    "            print(f\"Conv2 layer equivariance (mean absolute difference of sorted activations): {conv2_diff:.6f}\")\n",
    "            \n",
    "            # Visualize some examples\n",
    "            visualize_examples(original[1], translated[1], original_conv2[1], translated_conv2[1])\n",
    "            \n",
    "            break  # Process only one batch for demonstration\n",
    "\n",
    "def visualize_examples(original, translated, original_conv2, translated_conv2):\n",
    "    fig, axes = plt.subplots(2, 2, figsize=(10, 10))\n",
    "    axes[0, 0].imshow(original.squeeze(), cmap='gray')\n",
    "    axes[0, 0].set_title('Original Image')\n",
    "    axes[0, 1].imshow(translated.squeeze(), cmap='gray')\n",
    "    axes[0, 1].set_title('Translated Image')\n",
    "    axes[1, 0].imshow(original_conv2.squeeze(), cmap='viridis')\n",
    "    axes[1, 0].set_title('Original Conv2 Activation')\n",
    "    axes[1, 1].imshow(translated_conv2.squeeze(), cmap='viridis')\n",
    "    axes[1, 1].set_title('Translated Conv2 Activation')\n",
    "    plt.tight_layout()\n",
    "    plt.show()\n",
    "\n",
    "test_invariance_equivariance(model, translated_test_loader)"
   ]
  },
  {
   "cell_type": "markdown",
   "metadata": {},
   "source": [
    "FC layers are not invariant for small translations because there is no pooling in the model!"
   ]
  },
  {
   "cell_type": "markdown",
   "metadata": {},
   "source": []
  }
 ],
 "metadata": {
  "colab": {
   "authorship_tag": "ABX9TyPkibvpTEMRILBn2/x8IuJj",
   "provenance": []
  },
  "kernelspec": {
   "display_name": "Python 3 (ipykernel)",
   "language": "python",
   "name": "python3"
  },
  "language_info": {
   "codemirror_mode": {
    "name": "ipython",
    "version": 3
   },
   "file_extension": ".py",
   "mimetype": "text/x-python",
   "name": "python",
   "nbconvert_exporter": "python",
   "pygments_lexer": "ipython3",
   "version": "3.10.13"
  }
 },
 "nbformat": 4,
 "nbformat_minor": 1
}
